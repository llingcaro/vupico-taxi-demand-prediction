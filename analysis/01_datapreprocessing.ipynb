{
 "cells": [
  {
   "cell_type": "code",
   "execution_count": 1,
   "id": "19f246d3",
   "metadata": {},
   "outputs": [],
   "source": [
    "import pandas as pd\n",
    "import os\n",
    "import missingno as msno\n",
    "import numpy as np\n",
    "\n",
    "pd.set_option('display.max_rows', 500)"
   ]
  },
  {
   "cell_type": "markdown",
   "id": "777551df",
   "metadata": {},
   "source": [
    "## Improvements or Ideas"
   ]
  },
  {
   "cell_type": "markdown",
   "id": "876e55fa",
   "metadata": {},
   "source": [
    "1. What is the best way to do predictions on time series data?"
   ]
  },
  {
   "cell_type": "markdown",
   "id": "aa573d4a",
   "metadata": {},
   "source": [
    "## Data Overview"
   ]
  },
  {
   "cell_type": "markdown",
   "id": "57e5a56b",
   "metadata": {},
   "source": [
    "The trip data was downloaded from the [New York City Taxi & Limousine Commission](https://www.nyc.gov/site/tlc/about/tlc-trip-record-data.page). The following is the data description from TLC's data page:\n",
    "\n",
    "For-Hire Vehicle (“FHV”) trip records include fields capturing the dispatching base license number and the pick-up date, time, and taxi zone location ID (shape file below). These records are generated from the FHV Trip Record submissions made by bases. Note: The TLC publishes base trip record data as submitted by the bases, and we cannot guarantee or confirm their accuracy or completeness. Therefore, this may not represent the total amount of trips dispatched by all TLC-licensed bases. The TLC performs routine reviews of the records and takes enforcement actions when necessary to ensure, to the extent possible, complete and accurate information.\n",
    "\n",
    "The weather data, which contains hourly weather readings in New York City, was downloaded from [Kaggle](https://www.kaggle.com/datasets/meinertsen/new-york-city-taxi-trip-hourly-weather-data). The uploader scraped the data from Wunderground."
   ]
  },
  {
   "cell_type": "markdown",
   "id": "c8e46f09",
   "metadata": {},
   "source": [
    "## Data Assumptions"
   ]
  },
  {
   "cell_type": "markdown",
   "id": "abcdb7c0",
   "metadata": {},
   "source": [
    "1. Each row represents a completed trip\n",
    "2. The FHV data, even though it's not strictly Uber/Lyft/other ride-hailing apps only, is representative of these ride-hailing apps\n",
    "3. "
   ]
  },
  {
   "cell_type": "markdown",
   "id": "d78c14c8",
   "metadata": {},
   "source": [
    "## Data Preprocessing"
   ]
  },
  {
   "cell_type": "markdown",
   "id": "1c91cecb",
   "metadata": {},
   "source": [
    "Since the weather data is at the hour-level, the trip data will be aggregated on the same level of granularity. There are 12 tables of weather data, one table for each month of 2016. Each table will be aggregated at the hour level first before combining them together. The aggregation method will be the count of number of rows, which signifies the number of trips at each hour. This count will be the outcome variable--demand."
   ]
  },
  {
   "cell_type": "code",
   "execution_count": 2,
   "id": "1f74464f",
   "metadata": {},
   "outputs": [
    {
     "data": {
      "text/html": [
       "<div>\n",
       "<style scoped>\n",
       "    .dataframe tbody tr th:only-of-type {\n",
       "        vertical-align: middle;\n",
       "    }\n",
       "\n",
       "    .dataframe tbody tr th {\n",
       "        vertical-align: top;\n",
       "    }\n",
       "\n",
       "    .dataframe thead th {\n",
       "        text-align: right;\n",
       "    }\n",
       "</style>\n",
       "<table border=\"1\" class=\"dataframe\">\n",
       "  <thead>\n",
       "    <tr style=\"text-align: right;\">\n",
       "      <th></th>\n",
       "      <th>datetime</th>\n",
       "      <th>trip_count</th>\n",
       "    </tr>\n",
       "  </thead>\n",
       "  <tbody>\n",
       "    <tr>\n",
       "      <th>0</th>\n",
       "      <td>2016-01-01 00:00:00</td>\n",
       "      <td>19631</td>\n",
       "    </tr>\n",
       "    <tr>\n",
       "      <th>1</th>\n",
       "      <td>2016-01-01 01:00:00</td>\n",
       "      <td>23665</td>\n",
       "    </tr>\n",
       "    <tr>\n",
       "      <th>2</th>\n",
       "      <td>2016-01-01 02:00:00</td>\n",
       "      <td>23476</td>\n",
       "    </tr>\n",
       "    <tr>\n",
       "      <th>3</th>\n",
       "      <td>2016-01-01 03:00:00</td>\n",
       "      <td>20836</td>\n",
       "    </tr>\n",
       "    <tr>\n",
       "      <th>4</th>\n",
       "      <td>2016-01-01 04:00:00</td>\n",
       "      <td>15085</td>\n",
       "    </tr>\n",
       "  </tbody>\n",
       "</table>\n",
       "</div>"
      ],
      "text/plain": [
       "             datetime  trip_count\n",
       "0 2016-01-01 00:00:00       19631\n",
       "1 2016-01-01 01:00:00       23665\n",
       "2 2016-01-01 02:00:00       23476\n",
       "3 2016-01-01 03:00:00       20836\n",
       "4 2016-01-01 04:00:00       15085"
      ]
     },
     "metadata": {},
     "output_type": "display_data"
    },
    {
     "name": "stdout",
     "output_type": "stream",
     "text": [
      "(8784, 2)\n"
     ]
    }
   ],
   "source": [
    "# loop over the 12 trip data table (1 per month)\n",
    "# aggregate each table by hour-level, count number of rows (each row is a trip)\n",
    "# combine the aggregated tables\n",
    "\n",
    "def agg_hourly(df):\n",
    "    df = df.resample('60min', on='pickup_datetime').agg({'dropOff_datetime':'size'}).reset_index()\n",
    "    df = df.rename(columns={'pickup_datetime':'datetime','dropOff_datetime':'trip_count'})\n",
    "    return df\n",
    "\n",
    "directory = os.fsencode('../data/trip-data-tlc/raw/')\n",
    "\n",
    "combined_tripdata = pd.DataFrame([])\n",
    "\n",
    "for file in os.listdir(directory):\n",
    "    filename = os.fsdecode(file)\n",
    "    trip_data = pd.read_parquet('../data/trip-data-tlc/raw/'+filename)\n",
    "    agg_tripdata = agg_hourly(trip_data)\n",
    "    combined_tripdata = pd.concat([combined_tripdata,agg_tripdata])\n",
    "\n",
    "# combined_tripdata.to_csv('../data/trip-data-tlc/aggregated/combined_tripdata.csv')\n",
    "# combined_tripdata = pd.read_csv('../data/trip-data-tlc/aggregated/combined_tripdata.csv',index_col=0)\n",
    "\n",
    "display(combined_tripdata.head())\n",
    "print(combined_tripdata.shape)"
   ]
  },
  {
   "cell_type": "markdown",
   "id": "0d0e706e",
   "metadata": {},
   "source": [
    "The weather data is from 1/1/2016 to 12/31/2016 with a 1-hour interval, with a few records for 12/31/2015 that will be removed. This data records weather values at the 51st minute (i.e., the datetime readings are 12:51 AM, 1:51 AM, 2:51 AM, and so on), but there are cases with multiple readings in a 1-hour interval. These \"in-between\" readings will be removed for consistency, then the datetime will be resampled so it follows the datetime intervals of the trip data. "
   ]
  },
  {
   "cell_type": "code",
   "execution_count": 3,
   "id": "06404072",
   "metadata": {},
   "outputs": [
    {
     "data": {
      "text/html": [
       "<div>\n",
       "<style scoped>\n",
       "    .dataframe tbody tr th:only-of-type {\n",
       "        vertical-align: middle;\n",
       "    }\n",
       "\n",
       "    .dataframe tbody tr th {\n",
       "        vertical-align: top;\n",
       "    }\n",
       "\n",
       "    .dataframe thead th {\n",
       "        text-align: right;\n",
       "    }\n",
       "</style>\n",
       "<table border=\"1\" class=\"dataframe\">\n",
       "  <thead>\n",
       "    <tr style=\"text-align: right;\">\n",
       "      <th></th>\n",
       "      <th>datetime</th>\n",
       "      <th>tempm</th>\n",
       "      <th>tempi</th>\n",
       "      <th>dewptm</th>\n",
       "      <th>dewpti</th>\n",
       "      <th>hum</th>\n",
       "      <th>wspdm</th>\n",
       "      <th>wspdi</th>\n",
       "      <th>wgustm</th>\n",
       "      <th>wgusti</th>\n",
       "      <th>...</th>\n",
       "      <th>precipm</th>\n",
       "      <th>precipi</th>\n",
       "      <th>conds</th>\n",
       "      <th>icon</th>\n",
       "      <th>fog</th>\n",
       "      <th>rain</th>\n",
       "      <th>snow</th>\n",
       "      <th>hail</th>\n",
       "      <th>thunder</th>\n",
       "      <th>tornado</th>\n",
       "    </tr>\n",
       "  </thead>\n",
       "  <tbody>\n",
       "    <tr>\n",
       "      <th>0</th>\n",
       "      <td>2016-01-01 00:00:00</td>\n",
       "      <td>5.6</td>\n",
       "      <td>42.1</td>\n",
       "      <td>-3.9</td>\n",
       "      <td>25.0</td>\n",
       "      <td>51.0</td>\n",
       "      <td>7.4</td>\n",
       "      <td>4.6</td>\n",
       "      <td>NaN</td>\n",
       "      <td>NaN</td>\n",
       "      <td>...</td>\n",
       "      <td>NaN</td>\n",
       "      <td>NaN</td>\n",
       "      <td>Overcast</td>\n",
       "      <td>cloudy</td>\n",
       "      <td>0.0</td>\n",
       "      <td>0.0</td>\n",
       "      <td>0.0</td>\n",
       "      <td>0.0</td>\n",
       "      <td>0.0</td>\n",
       "      <td>0.0</td>\n",
       "    </tr>\n",
       "    <tr>\n",
       "      <th>1</th>\n",
       "      <td>2016-01-01 01:00:00</td>\n",
       "      <td>5.0</td>\n",
       "      <td>41.0</td>\n",
       "      <td>-3.9</td>\n",
       "      <td>25.0</td>\n",
       "      <td>53.0</td>\n",
       "      <td>5.6</td>\n",
       "      <td>3.5</td>\n",
       "      <td>NaN</td>\n",
       "      <td>NaN</td>\n",
       "      <td>...</td>\n",
       "      <td>NaN</td>\n",
       "      <td>NaN</td>\n",
       "      <td>Overcast</td>\n",
       "      <td>cloudy</td>\n",
       "      <td>0.0</td>\n",
       "      <td>0.0</td>\n",
       "      <td>0.0</td>\n",
       "      <td>0.0</td>\n",
       "      <td>0.0</td>\n",
       "      <td>0.0</td>\n",
       "    </tr>\n",
       "    <tr>\n",
       "      <th>2</th>\n",
       "      <td>2016-01-01 02:00:00</td>\n",
       "      <td>5.0</td>\n",
       "      <td>41.0</td>\n",
       "      <td>-3.3</td>\n",
       "      <td>26.1</td>\n",
       "      <td>55.0</td>\n",
       "      <td>7.4</td>\n",
       "      <td>4.6</td>\n",
       "      <td>NaN</td>\n",
       "      <td>NaN</td>\n",
       "      <td>...</td>\n",
       "      <td>NaN</td>\n",
       "      <td>NaN</td>\n",
       "      <td>Overcast</td>\n",
       "      <td>cloudy</td>\n",
       "      <td>0.0</td>\n",
       "      <td>0.0</td>\n",
       "      <td>0.0</td>\n",
       "      <td>0.0</td>\n",
       "      <td>0.0</td>\n",
       "      <td>0.0</td>\n",
       "    </tr>\n",
       "    <tr>\n",
       "      <th>3</th>\n",
       "      <td>2016-01-01 03:00:00</td>\n",
       "      <td>5.0</td>\n",
       "      <td>41.0</td>\n",
       "      <td>-3.3</td>\n",
       "      <td>26.1</td>\n",
       "      <td>55.0</td>\n",
       "      <td>14.8</td>\n",
       "      <td>9.2</td>\n",
       "      <td>NaN</td>\n",
       "      <td>NaN</td>\n",
       "      <td>...</td>\n",
       "      <td>NaN</td>\n",
       "      <td>NaN</td>\n",
       "      <td>Overcast</td>\n",
       "      <td>cloudy</td>\n",
       "      <td>0.0</td>\n",
       "      <td>0.0</td>\n",
       "      <td>0.0</td>\n",
       "      <td>0.0</td>\n",
       "      <td>0.0</td>\n",
       "      <td>0.0</td>\n",
       "    </tr>\n",
       "    <tr>\n",
       "      <th>4</th>\n",
       "      <td>2016-01-01 04:00:00</td>\n",
       "      <td>4.4</td>\n",
       "      <td>39.9</td>\n",
       "      <td>-3.3</td>\n",
       "      <td>26.1</td>\n",
       "      <td>58.0</td>\n",
       "      <td>16.7</td>\n",
       "      <td>10.4</td>\n",
       "      <td>25.9</td>\n",
       "      <td>16.1</td>\n",
       "      <td>...</td>\n",
       "      <td>NaN</td>\n",
       "      <td>NaN</td>\n",
       "      <td>Overcast</td>\n",
       "      <td>cloudy</td>\n",
       "      <td>0.0</td>\n",
       "      <td>0.0</td>\n",
       "      <td>0.0</td>\n",
       "      <td>0.0</td>\n",
       "      <td>0.0</td>\n",
       "      <td>0.0</td>\n",
       "    </tr>\n",
       "  </tbody>\n",
       "</table>\n",
       "<p>5 rows × 30 columns</p>\n",
       "</div>"
      ],
      "text/plain": [
       "             datetime  tempm  tempi  dewptm  dewpti   hum  wspdm  wspdi  \\\n",
       "0 2016-01-01 00:00:00    5.6   42.1    -3.9    25.0  51.0    7.4    4.6   \n",
       "1 2016-01-01 01:00:00    5.0   41.0    -3.9    25.0  53.0    5.6    3.5   \n",
       "2 2016-01-01 02:00:00    5.0   41.0    -3.3    26.1  55.0    7.4    4.6   \n",
       "3 2016-01-01 03:00:00    5.0   41.0    -3.3    26.1  55.0   14.8    9.2   \n",
       "4 2016-01-01 04:00:00    4.4   39.9    -3.3    26.1  58.0   16.7   10.4   \n",
       "\n",
       "   wgustm  wgusti  ...  precipm precipi     conds    icon  fog  rain  snow  \\\n",
       "0     NaN     NaN  ...      NaN     NaN  Overcast  cloudy  0.0   0.0   0.0   \n",
       "1     NaN     NaN  ...      NaN     NaN  Overcast  cloudy  0.0   0.0   0.0   \n",
       "2     NaN     NaN  ...      NaN     NaN  Overcast  cloudy  0.0   0.0   0.0   \n",
       "3     NaN     NaN  ...      NaN     NaN  Overcast  cloudy  0.0   0.0   0.0   \n",
       "4    25.9    16.1  ...      NaN     NaN  Overcast  cloudy  0.0   0.0   0.0   \n",
       "\n",
       "   hail  thunder  tornado  \n",
       "0   0.0      0.0      0.0  \n",
       "1   0.0      0.0      0.0  \n",
       "2   0.0      0.0      0.0  \n",
       "3   0.0      0.0      0.0  \n",
       "4   0.0      0.0      0.0  \n",
       "\n",
       "[5 rows x 30 columns]"
      ]
     },
     "metadata": {},
     "output_type": "display_data"
    },
    {
     "name": "stdout",
     "output_type": "stream",
     "text": [
      "(8784, 30)\n"
     ]
    }
   ],
   "source": [
    "# remove 2015 rows\n",
    "# remove rows where minute in datetime is not 51\n",
    "\n",
    "weather_data = pd.read_csv('../data/weather-data/Weather.csv')\n",
    "\n",
    "def clean_df(df):\n",
    "    df['pickup_datetime'] = pd.to_datetime(df['pickup_datetime'])\n",
    "    df = df[(df['pickup_datetime'].dt.year == 2016)&(df['pickup_datetime'].dt.minute == 51)]\n",
    "    return df\n",
    "\n",
    "# resample datetime and take the first value of all columns\n",
    "\n",
    "weather_data = clean_df(weather_data)\n",
    "weather_data = weather_data.resample('60min', on='pickup_datetime').first().reset_index()\n",
    "weather_data = weather_data.rename(columns={'pickup_datetime':'datetime'})\n",
    "display(weather_data.head())\n",
    "print(weather_data.shape)"
   ]
  },
  {
   "cell_type": "markdown",
   "id": "0c290a05",
   "metadata": {},
   "source": [
    "## Feature Engineering"
   ]
  },
  {
   "cell_type": "markdown",
   "id": "a286a655",
   "metadata": {},
   "source": [
    "The weather data has readings both in the imperial and metric unit, but only the metric columns will be used. More information on weather variables is available in the Kaggle [page.](https://www.kaggle.com/datasets/meinertsen/new-york-city-taxi-trip-hourly-weather-data)"
   ]
  },
  {
   "cell_type": "code",
   "execution_count": 20,
   "id": "d12e05d3",
   "metadata": {},
   "outputs": [],
   "source": [
    "weather_data = weather_data[['datetime','tempm','dewptm','hum','wspdm',\\\n",
    "                            'wgustm','wdird','wdire','vism','pressurem',\\\n",
    "                            'windchillm','heatindexm','precipm','conds','icon',\\\n",
    "                            'fog','rain','snow','hail','thunder','tornado']]\n",
    "working_df = combined_tripdata.merge(weather_data, on='datetime')"
   ]
  },
  {
   "cell_type": "markdown",
   "id": "ccdaf4e4",
   "metadata": {},
   "source": [
    "The following features, which are based on the date-time, will also be added\n",
    "- hour of the day\n",
    "- weekend or weekday (boolean)\n",
    "- day of the week\n",
    "- month of the year"
   ]
  },
  {
   "cell_type": "code",
   "execution_count": 21,
   "id": "d180b7f9",
   "metadata": {},
   "outputs": [],
   "source": [
    "working_df['hr'] = working_df['datetime'].dt.hour\n",
    "working_df['day_of_wk'] = working_df['datetime'].apply(lambda x: x.weekday())\n",
    "working_df['weekend'] = working_df['day_of_wk'].apply(lambda x: 1 if x >= 5 else 0)\n",
    "working_df['month'] = working_df['datetime'].dt.month"
   ]
  },
  {
   "cell_type": "markdown",
   "id": "e92720ce",
   "metadata": {},
   "source": [
    "## Data Preprocessing Continued"
   ]
  },
  {
   "cell_type": "markdown",
   "id": "7c50d5fa",
   "metadata": {},
   "source": [
    "### Handling Missing Data"
   ]
  },
  {
   "cell_type": "markdown",
   "id": "4ffdf4a5",
   "metadata": {},
   "source": [
    "To get a gauge of the completeness of the data, the number of non-null values and the corresponding percentage of missing values are displayed for each feature. The data source did not state possible reasons for missing data, so we will assume that observations are not recorded due to reasons including technical and human error, and that the missingness is completely at random. "
   ]
  },
  {
   "cell_type": "code",
   "execution_count": 22,
   "id": "a77bc89c",
   "metadata": {},
   "outputs": [
    {
     "data": {
      "text/html": [
       "<div>\n",
       "<style scoped>\n",
       "    .dataframe tbody tr th:only-of-type {\n",
       "        vertical-align: middle;\n",
       "    }\n",
       "\n",
       "    .dataframe tbody tr th {\n",
       "        vertical-align: top;\n",
       "    }\n",
       "\n",
       "    .dataframe thead th {\n",
       "        text-align: right;\n",
       "    }\n",
       "</style>\n",
       "<table border=\"1\" class=\"dataframe\">\n",
       "  <thead>\n",
       "    <tr style=\"text-align: right;\">\n",
       "      <th></th>\n",
       "      <th>count</th>\n",
       "      <th>percentage_missing</th>\n",
       "    </tr>\n",
       "  </thead>\n",
       "  <tbody>\n",
       "    <tr>\n",
       "      <th>precipm</th>\n",
       "      <td>770</td>\n",
       "      <td>91.234062</td>\n",
       "    </tr>\n",
       "    <tr>\n",
       "      <th>heatindexm</th>\n",
       "      <td>815</td>\n",
       "      <td>90.721767</td>\n",
       "    </tr>\n",
       "    <tr>\n",
       "      <th>wgustm</th>\n",
       "      <td>1499</td>\n",
       "      <td>82.934882</td>\n",
       "    </tr>\n",
       "    <tr>\n",
       "      <th>windchillm</th>\n",
       "      <td>2264</td>\n",
       "      <td>74.225865</td>\n",
       "    </tr>\n",
       "    <tr>\n",
       "      <th>wspdm</th>\n",
       "      <td>8047</td>\n",
       "      <td>8.390255</td>\n",
       "    </tr>\n",
       "    <tr>\n",
       "      <th>vism</th>\n",
       "      <td>8476</td>\n",
       "      <td>3.506375</td>\n",
       "    </tr>\n",
       "    <tr>\n",
       "      <th>pressurem</th>\n",
       "      <td>8480</td>\n",
       "      <td>3.460838</td>\n",
       "    </tr>\n",
       "    <tr>\n",
       "      <th>hum</th>\n",
       "      <td>8600</td>\n",
       "      <td>2.094718</td>\n",
       "    </tr>\n",
       "    <tr>\n",
       "      <th>icon</th>\n",
       "      <td>8600</td>\n",
       "      <td>2.094718</td>\n",
       "    </tr>\n",
       "    <tr>\n",
       "      <th>thunder</th>\n",
       "      <td>8600</td>\n",
       "      <td>2.094718</td>\n",
       "    </tr>\n",
       "  </tbody>\n",
       "</table>\n",
       "</div>"
      ],
      "text/plain": [
       "            count  percentage_missing\n",
       "precipm       770           91.234062\n",
       "heatindexm    815           90.721767\n",
       "wgustm       1499           82.934882\n",
       "windchillm   2264           74.225865\n",
       "wspdm        8047            8.390255\n",
       "vism         8476            3.506375\n",
       "pressurem    8480            3.460838\n",
       "hum          8600            2.094718\n",
       "icon         8600            2.094718\n",
       "thunder      8600            2.094718"
      ]
     },
     "execution_count": 22,
     "metadata": {},
     "output_type": "execute_result"
    }
   ],
   "source": [
    "completeness = pd.DataFrame(working_df.count()).rename(columns={0:'count'})\n",
    "completeness['percentage_missing'] = (len(working_df) - completeness['count']) / len(working_df) * 100\n",
    "completeness.sort_values(by='percentage_missing', ascending=False).head(10)"
   ]
  },
  {
   "cell_type": "markdown",
   "id": "ea56fe88",
   "metadata": {},
   "source": [
    "To visualize the missing values:"
   ]
  },
  {
   "cell_type": "code",
   "execution_count": 23,
   "id": "2b3792a9",
   "metadata": {},
   "outputs": [
    {
     "data": {
      "text/plain": [
       "<Axes: >"
      ]
     },
     "execution_count": 23,
     "metadata": {},
     "output_type": "execute_result"
    },
    {
     "data": {
      "image/png": "[encoded data removed]",
      "text/plain": [
       "<Figure size 2500x1000 with 2 Axes>"
      ]
     },
     "metadata": {},
     "output_type": "display_data"
    }
   ],
   "source": [
    "msno.matrix(working_df)"
   ]
  },
  {
   "cell_type": "markdown",
   "id": "d58b4f49",
   "metadata": {},
   "source": [
    "Four features have a lot of missing values, making it difficult to do imputation or dropping of rows, so these columns will be  removed from the analysis. But the other columns with missing values only have at most 8% missing values. Let's see what we can do with these columns."
   ]
  },
  {
   "cell_type": "code",
   "execution_count": 29,
   "id": "1dab4a8c",
   "metadata": {},
   "outputs": [],
   "source": [
    "# columns to be removed from the dataset\n",
    "remove_cols = ['precipm','heatindexm','wgustm','windchillm']\n",
    "working_df = working_df.drop(columns=remove_cols)"
   ]
  },
  {
   "cell_type": "markdown",
   "id": "ed0b95f4",
   "metadata": {},
   "source": [
    "The missingness of some of the features occur on the same datetimes, as seen on the plot above. And it appears that there are a few consecutive days with missing values for all these features as shown on the thick white horizontal line. We can try to impute or fill the missing values. However, some of these features are categorical variables, making the imputation process not straightforward. We will drop the rows with missing data for these categorical variables, and see what we are left with. "
   ]
  },
  {
   "cell_type": "code",
   "execution_count": 27,
   "id": "dee2231d",
   "metadata": {},
   "outputs": [
    {
     "name": "stdout",
     "output_type": "stream",
     "text": [
      "Count before: (8600, 26)\n",
      "Count after: (8600, 26)\n"
     ]
    },
    {
     "data": {
      "text/html": [
       "<div>\n",
       "<style scoped>\n",
       "    .dataframe tbody tr th:only-of-type {\n",
       "        vertical-align: middle;\n",
       "    }\n",
       "\n",
       "    .dataframe tbody tr th {\n",
       "        vertical-align: top;\n",
       "    }\n",
       "\n",
       "    .dataframe thead th {\n",
       "        text-align: right;\n",
       "    }\n",
       "</style>\n",
       "<table border=\"1\" class=\"dataframe\">\n",
       "  <thead>\n",
       "    <tr style=\"text-align: right;\">\n",
       "      <th></th>\n",
       "      <th>count</th>\n",
       "      <th>percentage_missing</th>\n",
       "    </tr>\n",
       "  </thead>\n",
       "  <tbody>\n",
       "    <tr>\n",
       "      <th>precipm</th>\n",
       "      <td>770</td>\n",
       "      <td>91.046512</td>\n",
       "    </tr>\n",
       "    <tr>\n",
       "      <th>heatindexm</th>\n",
       "      <td>815</td>\n",
       "      <td>90.523256</td>\n",
       "    </tr>\n",
       "    <tr>\n",
       "      <th>wgustm</th>\n",
       "      <td>1499</td>\n",
       "      <td>82.569767</td>\n",
       "    </tr>\n",
       "    <tr>\n",
       "      <th>windchillm</th>\n",
       "      <td>2264</td>\n",
       "      <td>73.674419</td>\n",
       "    </tr>\n",
       "    <tr>\n",
       "      <th>wspdm</th>\n",
       "      <td>8047</td>\n",
       "      <td>6.430233</td>\n",
       "    </tr>\n",
       "    <tr>\n",
       "      <th>vism</th>\n",
       "      <td>8476</td>\n",
       "      <td>1.441860</td>\n",
       "    </tr>\n",
       "    <tr>\n",
       "      <th>pressurem</th>\n",
       "      <td>8480</td>\n",
       "      <td>1.395349</td>\n",
       "    </tr>\n",
       "    <tr>\n",
       "      <th>fog</th>\n",
       "      <td>8600</td>\n",
       "      <td>0.000000</td>\n",
       "    </tr>\n",
       "    <tr>\n",
       "      <th>weekend</th>\n",
       "      <td>8600</td>\n",
       "      <td>0.000000</td>\n",
       "    </tr>\n",
       "    <tr>\n",
       "      <th>day_of_wk</th>\n",
       "      <td>8600</td>\n",
       "      <td>0.000000</td>\n",
       "    </tr>\n",
       "  </tbody>\n",
       "</table>\n",
       "</div>"
      ],
      "text/plain": [
       "            count  percentage_missing\n",
       "precipm       770           91.046512\n",
       "heatindexm    815           90.523256\n",
       "wgustm       1499           82.569767\n",
       "windchillm   2264           73.674419\n",
       "wspdm        8047            6.430233\n",
       "vism         8476            1.441860\n",
       "pressurem    8480            1.395349\n",
       "fog          8600            0.000000\n",
       "weekend      8600            0.000000\n",
       "day_of_wk    8600            0.000000"
      ]
     },
     "execution_count": 27,
     "metadata": {},
     "output_type": "execute_result"
    }
   ],
   "source": [
    "print(f\"Count before: {working_df.shape}\")\n",
    "categorical_cols = ['wdire','conds','icon','fog','rain','snow','hail','thunder','tornado']\n",
    "working_df = working_df.dropna(subset=categorical_cols, how='any')\n",
    "print(f\"Count after: {working_df.shape}\")\n",
    "\n",
    "completeness = pd.DataFrame(working_df.count()).rename(columns={0:'count'})\n",
    "completeness['percentage_missing'] = (len(working_df) - completeness['count']) / len(working_df) * 100\n",
    "completeness.sort_values(by='percentage_missing', ascending=False).head(10)"
   ]
  },
  {
   "cell_type": "code",
   "execution_count": 30,
   "id": "513d9450",
   "metadata": {},
   "outputs": [
    {
     "data": {
      "text/plain": [
       "<Axes: >"
      ]
     },
     "execution_count": 30,
     "metadata": {},
     "output_type": "execute_result"
    },
    {
     "data": {
      "image/png": "[encoded data removed]",
      "text/plain": [
       "<Figure size 2500x1000 with 2 Axes>"
      ]
     },
     "metadata": {},
     "output_type": "display_data"
    }
   ],
   "source": [
    "msno.matrix(working_df)"
   ]
  },
  {
   "cell_type": "markdown",
   "id": "3cedaae1",
   "metadata": {},
   "source": [
    "We are now left with 3 weather variables with missing values. But we can also try to impute or fill the missing values with the average of the value before and after. For example, if we have this dataframe with missing values:"
   ]
  },
  {
   "cell_type": "code",
   "execution_count": 31,
   "id": "1ebc4633",
   "metadata": {},
   "outputs": [
    {
     "data": {
      "text/html": [
       "<div>\n",
       "<style scoped>\n",
       "    .dataframe tbody tr th:only-of-type {\n",
       "        vertical-align: middle;\n",
       "    }\n",
       "\n",
       "    .dataframe tbody tr th {\n",
       "        vertical-align: top;\n",
       "    }\n",
       "\n",
       "    .dataframe thead th {\n",
       "        text-align: right;\n",
       "    }\n",
       "</style>\n",
       "<table border=\"1\" class=\"dataframe\">\n",
       "  <thead>\n",
       "    <tr style=\"text-align: right;\">\n",
       "      <th></th>\n",
       "      <th>value</th>\n",
       "    </tr>\n",
       "  </thead>\n",
       "  <tbody>\n",
       "    <tr>\n",
       "      <th>0</th>\n",
       "      <td>3.0</td>\n",
       "    </tr>\n",
       "    <tr>\n",
       "      <th>1</th>\n",
       "      <td>4.0</td>\n",
       "    </tr>\n",
       "    <tr>\n",
       "      <th>2</th>\n",
       "      <td>5.0</td>\n",
       "    </tr>\n",
       "    <tr>\n",
       "      <th>3</th>\n",
       "      <td>NaN</td>\n",
       "    </tr>\n",
       "    <tr>\n",
       "      <th>4</th>\n",
       "      <td>4.0</td>\n",
       "    </tr>\n",
       "    <tr>\n",
       "      <th>5</th>\n",
       "      <td>7.0</td>\n",
       "    </tr>\n",
       "    <tr>\n",
       "      <th>6</th>\n",
       "      <td>NaN</td>\n",
       "    </tr>\n",
       "    <tr>\n",
       "      <th>7</th>\n",
       "      <td>5.0</td>\n",
       "    </tr>\n",
       "    <tr>\n",
       "      <th>8</th>\n",
       "      <td>3.0</td>\n",
       "    </tr>\n",
       "  </tbody>\n",
       "</table>\n",
       "</div>"
      ],
      "text/plain": [
       "   value\n",
       "0    3.0\n",
       "1    4.0\n",
       "2    5.0\n",
       "3    NaN\n",
       "4    4.0\n",
       "5    7.0\n",
       "6    NaN\n",
       "7    5.0\n",
       "8    3.0"
      ]
     },
     "execution_count": 31,
     "metadata": {},
     "output_type": "execute_result"
    }
   ],
   "source": [
    "sample = pd.DataFrame({'value': [3,4,5,np.nan,4,7,np.nan,5,3]})\n",
    "sample"
   ]
  },
  {
   "cell_type": "markdown",
   "id": "e5006006",
   "metadata": {},
   "source": [
    "We can use the following code to fill the missing values with the average of the values before and after:"
   ]
  },
  {
   "cell_type": "code",
   "execution_count": 32,
   "id": "b61e6d5f",
   "metadata": {},
   "outputs": [
    {
     "data": {
      "text/html": [
       "<div>\n",
       "<style scoped>\n",
       "    .dataframe tbody tr th:only-of-type {\n",
       "        vertical-align: middle;\n",
       "    }\n",
       "\n",
       "    .dataframe tbody tr th {\n",
       "        vertical-align: top;\n",
       "    }\n",
       "\n",
       "    .dataframe thead th {\n",
       "        text-align: right;\n",
       "    }\n",
       "</style>\n",
       "<table border=\"1\" class=\"dataframe\">\n",
       "  <thead>\n",
       "    <tr style=\"text-align: right;\">\n",
       "      <th></th>\n",
       "      <th>value</th>\n",
       "    </tr>\n",
       "  </thead>\n",
       "  <tbody>\n",
       "    <tr>\n",
       "      <th>0</th>\n",
       "      <td>3.0</td>\n",
       "    </tr>\n",
       "    <tr>\n",
       "      <th>1</th>\n",
       "      <td>4.0</td>\n",
       "    </tr>\n",
       "    <tr>\n",
       "      <th>2</th>\n",
       "      <td>5.0</td>\n",
       "    </tr>\n",
       "    <tr>\n",
       "      <th>3</th>\n",
       "      <td>4.5</td>\n",
       "    </tr>\n",
       "    <tr>\n",
       "      <th>4</th>\n",
       "      <td>4.0</td>\n",
       "    </tr>\n",
       "    <tr>\n",
       "      <th>5</th>\n",
       "      <td>7.0</td>\n",
       "    </tr>\n",
       "    <tr>\n",
       "      <th>6</th>\n",
       "      <td>6.0</td>\n",
       "    </tr>\n",
       "    <tr>\n",
       "      <th>7</th>\n",
       "      <td>5.0</td>\n",
       "    </tr>\n",
       "    <tr>\n",
       "      <th>8</th>\n",
       "      <td>3.0</td>\n",
       "    </tr>\n",
       "  </tbody>\n",
       "</table>\n",
       "</div>"
      ],
      "text/plain": [
       "   value\n",
       "0    3.0\n",
       "1    4.0\n",
       "2    5.0\n",
       "3    4.5\n",
       "4    4.0\n",
       "5    7.0\n",
       "6    6.0\n",
       "7    5.0\n",
       "8    3.0"
      ]
     },
     "execution_count": 32,
     "metadata": {},
     "output_type": "execute_result"
    }
   ],
   "source": [
    "sample['value'] = sample['value'].fillna((sample['value'].shift()+sample['value'].shift(-1))/2)\n",
    "sample"
   ]
  },
  {
   "cell_type": "markdown",
   "id": "1c8b08cf",
   "metadata": {},
   "source": [
    "The thing to note here is that we will only impute the missing value if there are values immediately before and after. So the assumption we are making is that the weather variable does not vary a lot within a span of 3 hours. "
   ]
  },
  {
   "cell_type": "code",
   "execution_count": 33,
   "id": "26ce7157",
   "metadata": {},
   "outputs": [
    {
     "data": {
      "text/html": [
       "<div>\n",
       "<style scoped>\n",
       "    .dataframe tbody tr th:only-of-type {\n",
       "        vertical-align: middle;\n",
       "    }\n",
       "\n",
       "    .dataframe tbody tr th {\n",
       "        vertical-align: top;\n",
       "    }\n",
       "\n",
       "    .dataframe thead th {\n",
       "        text-align: right;\n",
       "    }\n",
       "</style>\n",
       "<table border=\"1\" class=\"dataframe\">\n",
       "  <thead>\n",
       "    <tr style=\"text-align: right;\">\n",
       "      <th></th>\n",
       "      <th>count</th>\n",
       "      <th>percentage_missing</th>\n",
       "    </tr>\n",
       "  </thead>\n",
       "  <tbody>\n",
       "    <tr>\n",
       "      <th>wspdm</th>\n",
       "      <td>8404</td>\n",
       "      <td>2.279070</td>\n",
       "    </tr>\n",
       "    <tr>\n",
       "      <th>vism</th>\n",
       "      <td>8478</td>\n",
       "      <td>1.418605</td>\n",
       "    </tr>\n",
       "    <tr>\n",
       "      <th>pressurem</th>\n",
       "      <td>8482</td>\n",
       "      <td>1.372093</td>\n",
       "    </tr>\n",
       "    <tr>\n",
       "      <th>datetime</th>\n",
       "      <td>8600</td>\n",
       "      <td>0.000000</td>\n",
       "    </tr>\n",
       "    <tr>\n",
       "      <th>rain</th>\n",
       "      <td>8600</td>\n",
       "      <td>0.000000</td>\n",
       "    </tr>\n",
       "    <tr>\n",
       "      <th>weekend</th>\n",
       "      <td>8600</td>\n",
       "      <td>0.000000</td>\n",
       "    </tr>\n",
       "    <tr>\n",
       "      <th>day_of_wk</th>\n",
       "      <td>8600</td>\n",
       "      <td>0.000000</td>\n",
       "    </tr>\n",
       "    <tr>\n",
       "      <th>hr</th>\n",
       "      <td>8600</td>\n",
       "      <td>0.000000</td>\n",
       "    </tr>\n",
       "    <tr>\n",
       "      <th>tornado</th>\n",
       "      <td>8600</td>\n",
       "      <td>0.000000</td>\n",
       "    </tr>\n",
       "    <tr>\n",
       "      <th>thunder</th>\n",
       "      <td>8600</td>\n",
       "      <td>0.000000</td>\n",
       "    </tr>\n",
       "  </tbody>\n",
       "</table>\n",
       "</div>"
      ],
      "text/plain": [
       "           count  percentage_missing\n",
       "wspdm       8404            2.279070\n",
       "vism        8478            1.418605\n",
       "pressurem   8482            1.372093\n",
       "datetime    8600            0.000000\n",
       "rain        8600            0.000000\n",
       "weekend     8600            0.000000\n",
       "day_of_wk   8600            0.000000\n",
       "hr          8600            0.000000\n",
       "tornado     8600            0.000000\n",
       "thunder     8600            0.000000"
      ]
     },
     "execution_count": 33,
     "metadata": {},
     "output_type": "execute_result"
    }
   ],
   "source": [
    "cols_to_impute = ['wspdm','vism', 'pressurem']\n",
    "for col in cols_to_impute:\n",
    "    working_df[col] = working_df[col].fillna((working_df[col].shift()+working_df[col].shift(-1))/2)\n",
    "    \n",
    "completeness = pd.DataFrame(working_df.count()).rename(columns={0:'count'})\n",
    "completeness['percentage_missing'] = (len(working_df) - completeness['count']) / len(working_df) * 100\n",
    "completeness.sort_values(by='percentage_missing', ascending=False).head(10)"
   ]
  },
  {
   "cell_type": "markdown",
   "id": "095acce6",
   "metadata": {},
   "source": [
    "We were able to fill some of the missing values, but there's still about 2% of the remaining rows with missing values. Since this is relatively small, we decide to drop these rows instead of doing more imputation. "
   ]
  },
  {
   "cell_type": "code",
   "execution_count": 35,
   "id": "561d2427",
   "metadata": {},
   "outputs": [
    {
     "name": "stdout",
     "output_type": "stream",
     "text": [
      "Count before: (8600, 22)\n",
      "Count after: (8400, 22)\n"
     ]
    },
    {
     "data": {
      "text/html": [
       "<div>\n",
       "<style scoped>\n",
       "    .dataframe tbody tr th:only-of-type {\n",
       "        vertical-align: middle;\n",
       "    }\n",
       "\n",
       "    .dataframe tbody tr th {\n",
       "        vertical-align: top;\n",
       "    }\n",
       "\n",
       "    .dataframe thead th {\n",
       "        text-align: right;\n",
       "    }\n",
       "</style>\n",
       "<table border=\"1\" class=\"dataframe\">\n",
       "  <thead>\n",
       "    <tr style=\"text-align: right;\">\n",
       "      <th></th>\n",
       "      <th>count</th>\n",
       "      <th>percentage_missing</th>\n",
       "    </tr>\n",
       "  </thead>\n",
       "  <tbody>\n",
       "    <tr>\n",
       "      <th>datetime</th>\n",
       "      <td>8400</td>\n",
       "      <td>0.0</td>\n",
       "    </tr>\n",
       "    <tr>\n",
       "      <th>trip_count</th>\n",
       "      <td>8400</td>\n",
       "      <td>0.0</td>\n",
       "    </tr>\n",
       "    <tr>\n",
       "      <th>weekend</th>\n",
       "      <td>8400</td>\n",
       "      <td>0.0</td>\n",
       "    </tr>\n",
       "    <tr>\n",
       "      <th>day_of_wk</th>\n",
       "      <td>8400</td>\n",
       "      <td>0.0</td>\n",
       "    </tr>\n",
       "    <tr>\n",
       "      <th>hr</th>\n",
       "      <td>8400</td>\n",
       "      <td>0.0</td>\n",
       "    </tr>\n",
       "    <tr>\n",
       "      <th>tornado</th>\n",
       "      <td>8400</td>\n",
       "      <td>0.0</td>\n",
       "    </tr>\n",
       "    <tr>\n",
       "      <th>thunder</th>\n",
       "      <td>8400</td>\n",
       "      <td>0.0</td>\n",
       "    </tr>\n",
       "    <tr>\n",
       "      <th>hail</th>\n",
       "      <td>8400</td>\n",
       "      <td>0.0</td>\n",
       "    </tr>\n",
       "    <tr>\n",
       "      <th>snow</th>\n",
       "      <td>8400</td>\n",
       "      <td>0.0</td>\n",
       "    </tr>\n",
       "    <tr>\n",
       "      <th>rain</th>\n",
       "      <td>8400</td>\n",
       "      <td>0.0</td>\n",
       "    </tr>\n",
       "  </tbody>\n",
       "</table>\n",
       "</div>"
      ],
      "text/plain": [
       "            count  percentage_missing\n",
       "datetime     8400                 0.0\n",
       "trip_count   8400                 0.0\n",
       "weekend      8400                 0.0\n",
       "day_of_wk    8400                 0.0\n",
       "hr           8400                 0.0\n",
       "tornado      8400                 0.0\n",
       "thunder      8400                 0.0\n",
       "hail         8400                 0.0\n",
       "snow         8400                 0.0\n",
       "rain         8400                 0.0"
      ]
     },
     "execution_count": 35,
     "metadata": {},
     "output_type": "execute_result"
    }
   ],
   "source": [
    "print(f\"Count before: {working_df.shape}\")\n",
    "working_df = working_df.dropna(subset=cols_to_impute, how='any')\n",
    "print(f\"Count after: {working_df.shape}\")\n",
    "\n",
    "completeness = pd.DataFrame(working_df.count()).rename(columns={0:'count'})\n",
    "completeness['percentage_missing'] = (len(working_df) - completeness['count']) / len(working_df) * 100\n",
    "completeness.sort_values(by='percentage_missing', ascending=False).head(10)"
   ]
  },
  {
   "cell_type": "markdown",
   "id": "13cb4d9b",
   "metadata": {},
   "source": [
    "Our final table has 8400 rows of trip and weather data."
   ]
  }
 ],
 "metadata": {
  "kernelspec": {
   "display_name": "Python 3 (ipykernel)",
   "language": "python",
   "name": "python3"
  },
  "language_info": {
   "codemirror_mode": {
    "name": "ipython",
    "version": 3
   },
   "file_extension": ".py",
   "mimetype": "text/x-python",
   "name": "python",
   "nbconvert_exporter": "python",
   "pygments_lexer": "ipython3",
   "version": "3.11.5"
  }
 },
 "nbformat": 4,
 "nbformat_minor": 5
}
