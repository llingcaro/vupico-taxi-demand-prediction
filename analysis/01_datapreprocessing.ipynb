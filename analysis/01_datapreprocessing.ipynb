{
 "cells": [
  {
   "cell_type": "code",
   "execution_count": 1,
   "id": "6500160b",
   "metadata": {},
   "outputs": [],
   "source": [
    "import pandas as pd\n",
    "import os"
   ]
  },
  {
   "cell_type": "markdown",
   "id": "2da1f862",
   "metadata": {},
   "source": [
    "## Data Overview"
   ]
  },
  {
   "cell_type": "markdown",
   "id": "235691a2",
   "metadata": {},
   "source": [
    "The trip data was downloaded from the New York City Taxi & Limousine Commission (https://www.nyc.gov/site/tlc/about/tlc-trip-record-data.page). The following is the data description from TLC's data page:\n",
    "\n",
    "For-Hire Vehicle (“FHV”) trip records include fields capturing the dispatching base license number and the pick-up date, time, and taxi zone location ID (shape file below). These records are generated from the FHV Trip Record submissions made by bases. Note: The TLC publishes base trip record data as submitted by the bases, and we cannot guarantee or confirm their accuracy or completeness. Therefore, this may not represent the total amount of trips dispatched by all TLC-licensed bases. The TLC performs routine reviews of the records and takes enforcement actions when necessary to ensure, to the extent possible, complete and accurate information."
   ]
  },
  {
   "cell_type": "markdown",
   "id": "1469830f",
   "metadata": {},
   "source": [
    "The weather data was downloaded from Kaggle (https://www.kaggle.com/datasets/meinertsen/new-york-city-taxi-trip-hourly-weather-data). The uploader scraped the data from Wunderground. It contains hourly weather data in New York City."
   ]
  },
  {
   "cell_type": "markdown",
   "id": "5bdfa457",
   "metadata": {},
   "source": [
    "## Data Assumptions"
   ]
  },
  {
   "cell_type": "markdown",
   "id": "f62d5163",
   "metadata": {},
   "source": [
    "1. Each row represents a completed trip\n",
    "2. The FHV data, even though it's not strictly Uber/Lyft/other ride-hailing apps only, is representative of these ride-hailing apps\n",
    "3. "
   ]
  },
  {
   "cell_type": "markdown",
   "id": "b0162217",
   "metadata": {},
   "source": [
    "## Data Preprocessing"
   ]
  },
  {
   "cell_type": "markdown",
   "id": "e5424def",
   "metadata": {},
   "source": [
    "Since the granularity of the weather data is at the hour-level, we will aggregate the trip data on the same level of granularity. We have 12 files of weather data, one for each month of 2016, and we will aggregate each data file at the hour level first before combining them together. We will count the number of records for every hour, and that count will be our outcome variable--demand. "
   ]
  },
  {
   "cell_type": "code",
   "execution_count": 3,
   "id": "d52ebf85",
   "metadata": {},
   "outputs": [],
   "source": [
    "# go over the 12 trip data table (1 per month)\n",
    "# aggregate each table by hour-level, count number of rows (each row is a trip)\n",
    "# combine the aggregated tables\n",
    "\n",
    "def agg_hourly(df):\n",
    "    df = df.resample('60min', on=\"pickup_datetime\").agg({'dropOff_datetime':'size'}).reset_index()\n",
    "    df = df.rename(columns={'pickup_datetime':'datetime','dropOff_datetime':'trip_count'})\n",
    "    return df\n",
    "\n",
    "directory = os.fsencode('../data/trip-data-tlc/raw/')\n",
    "\n",
    "combined_tripdata = pd.DataFrame([])\n",
    "\n",
    "for file in os.listdir(directory):\n",
    "    filename = os.fsdecode(file)\n",
    "    trip_data = pd.read_parquet('../data/trip-data-tlc/raw/'+filename)\n",
    "    agg_tripdata = agg_hourly(trip_data)\n",
    "    combined_tripdata = pd.concat([combined_tripdata,agg_tripdata])\n",
    "\n",
    "# combined_tripdata.to_csv('../data/trip-data-tlc/aggregated/combined_tripdata.csv')"
   ]
  },
  {
   "cell_type": "code",
   "execution_count": null,
   "id": "c0442bfc",
   "metadata": {},
   "outputs": [],
   "source": []
  },
  {
   "cell_type": "code",
   "execution_count": null,
   "id": "8f44b24a",
   "metadata": {},
   "outputs": [],
   "source": []
  },
  {
   "cell_type": "code",
   "execution_count": null,
   "id": "e34ed550",
   "metadata": {},
   "outputs": [],
   "source": [
    "combined_tripdata"
   ]
  },
  {
   "cell_type": "code",
   "execution_count": null,
   "id": "f7db46b5",
   "metadata": {},
   "outputs": [],
   "source": [
    "filename"
   ]
  },
  {
   "cell_type": "code",
   "execution_count": null,
   "id": "091db5f9",
   "metadata": {},
   "outputs": [],
   "source": [
    "agg_hourly(data)"
   ]
  },
  {
   "cell_type": "code",
   "execution_count": null,
   "id": "b52ff2cc",
   "metadata": {},
   "outputs": [],
   "source": [
    "index = pd.date_range('1/1/2000', periods=9, freq='min')"
   ]
  },
  {
   "cell_type": "code",
   "execution_count": null,
   "id": "eb8ca5e9",
   "metadata": {},
   "outputs": [],
   "source": [
    "series = pd.Series(range(9), index=index)"
   ]
  },
  {
   "cell_type": "code",
   "execution_count": null,
   "id": "5ce37035",
   "metadata": {},
   "outputs": [],
   "source": [
    "series"
   ]
  },
  {
   "cell_type": "code",
   "execution_count": null,
   "id": "6dd23928",
   "metadata": {},
   "outputs": [],
   "source": [
    "series.resample('2min').count()"
   ]
  },
  {
   "cell_type": "code",
   "execution_count": null,
   "id": "b9265834",
   "metadata": {},
   "outputs": [],
   "source": [
    "data"
   ]
  },
  {
   "cell_type": "code",
   "execution_count": null,
   "id": "aaada4bb",
   "metadata": {},
   "outputs": [],
   "source": []
  }
 ],
 "metadata": {
  "kernelspec": {
   "display_name": "Python 3 (ipykernel)",
   "language": "python",
   "name": "python3"
  },
  "language_info": {
   "codemirror_mode": {
    "name": "ipython",
    "version": 3
   },
   "file_extension": ".py",
   "mimetype": "text/x-python",
   "name": "python",
   "nbconvert_exporter": "python",
   "pygments_lexer": "ipython3",
   "version": "3.11.5"
  }
 },
 "nbformat": 4,
 "nbformat_minor": 5
}
